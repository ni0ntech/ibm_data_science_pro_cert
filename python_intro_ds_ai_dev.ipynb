{
 "cells": [
  {
   "cell_type": "markdown",
   "id": "f55192d0-ff1d-443e-909f-935279dbf377",
   "metadata": {},
   "source": [
    "# String Interpolation"
   ]
  },
  {
   "cell_type": "markdown",
   "id": "9af72cd5-26d3-442f-bdca-6c721c0bcf4b",
   "metadata": {},
   "source": [
    "### String interpolation is a way to insert variables into strings."
   ]
  },
  {
   "cell_type": "markdown",
   "id": "8eba8148-638c-4ba9-8ea0-837b46b6fb6b",
   "metadata": {},
   "source": [
    "##### String interpolation (f-strings):"
   ]
  },
  {
   "cell_type": "code",
   "execution_count": 1,
   "id": "64505953-bc1e-48a9-8b88-f0c6ec5fe660",
   "metadata": {},
   "outputs": [
    {
     "name": "stdout",
     "output_type": "stream",
     "text": [
      "My name is Jack and I am 30 years old.\n"
     ]
    }
   ],
   "source": [
    "name = \"Jack\"\n",
    "age = 30\n",
    "print(f\"My name is {name} and I am {age} years old.\")"
   ]
  },
  {
   "cell_type": "markdown",
   "id": "56f2c05b-547c-4dad-a840-0a2cff5c2c4e",
   "metadata": {},
   "source": [
    "##### str.format() method:"
   ]
  },
  {
   "cell_type": "code",
   "execution_count": 2,
   "id": "065acfe2-17fc-496a-90e8-9a3de02d9cbb",
   "metadata": {},
   "outputs": [
    {
     "name": "stdout",
     "output_type": "stream",
     "text": [
      "My name is Jack and I am 30 years old.\n"
     ]
    }
   ],
   "source": [
    "name = \"Jack\"\n",
    "age = 30\n",
    "print(\"My name is {} and I am {} years old.\".format(name, age))"
   ]
  },
  {
   "cell_type": "code",
   "execution_count": null,
   "id": "51e2d1f4-0299-4c55-9d3d-242477971a64",
   "metadata": {},
   "outputs": [],
   "source": []
  }
 ],
 "metadata": {
  "kernelspec": {
   "display_name": "Python 3 (ipykernel)",
   "language": "python",
   "name": "python3"
  },
  "language_info": {
   "codemirror_mode": {
    "name": "ipython",
    "version": 3
   },
   "file_extension": ".py",
   "mimetype": "text/x-python",
   "name": "python",
   "nbconvert_exporter": "python",
   "pygments_lexer": "ipython3",
   "version": "3.12.9"
  }
 },
 "nbformat": 4,
 "nbformat_minor": 5
}
